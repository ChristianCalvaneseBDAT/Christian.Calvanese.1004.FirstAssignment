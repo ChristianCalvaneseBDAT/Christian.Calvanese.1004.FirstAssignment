{
  "nbformat": 4,
  "nbformat_minor": 0,
  "metadata": {
    "colab": {
      "provenance": []
    },
    "kernelspec": {
      "name": "python3",
      "display_name": "Python 3"
    },
    "language_info": {
      "name": "python"
    }
  },
  "cells": [
    {
      "cell_type": "code",
      "execution_count": null,
      "metadata": {
        "id": "1tdzVU7HMpwD"
      },
      "outputs": [],
      "source": []
    },
    {
      "cell_type": "code",
      "source": [],
      "metadata": {
        "id": "5cACBXsCOMmS"
      },
      "execution_count": null,
      "outputs": []
    },
    {
      "cell_type": "markdown",
      "source": [
        "Problem Set 1\n",
        "\n",
        "This problem set is based on lectures 1,2 and 3. For a complete list of topics please\n",
        "\n",
        "consult page 2 of the course syllabus. Please consult the “Instructions for Problem\n",
        "\n",
        "Set Submissions” document under course information before submitting your\n",
        "assignment."
      ],
      "metadata": {
        "id": "xDqJDSR0OkJ-"
      }
    },
    {
      "cell_type": "markdown",
      "source": [
        "\n",
        "\n",
        "Question 1\n",
        "\n",
        "What data type is each of the following (evaluate where necessary)?\n",
        "\n",
        "5: integer.\n",
        "\n",
        "5.0: Float.\n",
        "\n",
        "5 > 1:  True because 5 is greater than 1.\n",
        "\n",
        "'5': string .\n",
        "\n",
        "5 * 2: integer, 5 times 2 .\n",
        "\n",
        "'5' * 2:  string, pythons multyply the string 5, concatenating the two strings to form '55'.\n",
        "\n",
        "'5' + '2':  string, it adds up the string '5' plus the string '2' '52'.\n",
        "\n",
        "5 / 2: float number 2.5.\n",
        "\n",
        "5 % 2:  Integer, 1.\n",
        "\n",
        "{5, 2, 1}: This is a set of 5, 2, and 1. Sets are unordered collections of unique elements.\n",
        "\n",
        "5 == 3: False because 5 is not equal to 3.\n",
        "\n",
        "Pi (the number): a float"
      ],
      "metadata": {
        "id": "A24k3Ao2MuA6"
      }
    },
    {
      "cell_type": "markdown",
      "source": [
        "Question 2\n",
        "\n",
        "Write (and evaluate) python expressions that answer these questions:\n",
        "\n",
        "a. How many letters are there in 'Supercalifragilisticexpialidocious'?\n",
        "\n",
        "b. Does 'Supercalifragilisticexpialidocious' contain 'ice' as a substring?\n",
        "\n",
        "c. Which of the following words is the longest:\n",
        "Supercalifragilisticexpialidocious, Honorificabilitudinitatibus, or\n",
        "Bababadalgharaghtakamminarronnkonn?\n",
        "\n",
        "d. Which composer comes first in the dictionary: 'Berlioz', 'Borodin', 'Brian',\n",
        "'Bartok', 'Bellini', 'Buxtehude', 'Bernstein'. Which one comes last?\n"
      ],
      "metadata": {
        "id": "0P_b5jAsOZBU"
      }
    },
    {
      "cell_type": "markdown",
      "source": [
        "a:"
      ],
      "metadata": {
        "id": "ZwnEeHVNPP2q"
      }
    },
    {
      "cell_type": "code",
      "source": [
        "word = 'Supercalifragilisticexpialidocious'\n",
        "num_letters = len(word)\n",
        "print(num_letters)"
      ],
      "metadata": {
        "colab": {
          "base_uri": "https://localhost:8080/"
        },
        "id": "K9g8Z8jSMx3I",
        "outputId": "c101d3f1-eba5-42b4-be62-1b1ef86d3e84"
      },
      "execution_count": 1,
      "outputs": [
        {
          "output_type": "stream",
          "name": "stdout",
          "text": [
            "34\n"
          ]
        }
      ]
    },
    {
      "cell_type": "markdown",
      "source": [
        "b:"
      ],
      "metadata": {
        "id": "t9xRdrUMPSxm"
      }
    },
    {
      "cell_type": "code",
      "source": [
        "word = 'Supercalifragilisticexpialidocious'\n",
        "contains_ice = 'ice' in word\n",
        "print(contains_ice)"
      ],
      "metadata": {
        "colab": {
          "base_uri": "https://localhost:8080/"
        },
        "id": "0aAHAk3QO0DM",
        "outputId": "f0bab5a6-9d2d-45fa-c826-a6721b327013"
      },
      "execution_count": 2,
      "outputs": [
        {
          "output_type": "stream",
          "name": "stdout",
          "text": [
            "True\n"
          ]
        }
      ]
    },
    {
      "cell_type": "markdown",
      "source": [
        "c:"
      ],
      "metadata": {
        "id": "6qnJFX6sPUv1"
      }
    },
    {
      "cell_type": "code",
      "source": [
        "words = ['Supercalifragilisticexpialidocious', 'Honorificabilitudinitatibus', 'Bababadalgharaghtakamminarronnkonn']\n",
        "longest_word = max(words, key=len)\n",
        "print(longest_word)"
      ],
      "metadata": {
        "colab": {
          "base_uri": "https://localhost:8080/"
        },
        "id": "DItKPLX_PDe2",
        "outputId": "51d77ac0-0f1b-4be5-94bc-8b3fc10890a5"
      },
      "execution_count": 3,
      "outputs": [
        {
          "output_type": "stream",
          "name": "stdout",
          "text": [
            "Supercalifragilisticexpialidocious\n"
          ]
        }
      ]
    },
    {
      "cell_type": "markdown",
      "source": [
        "d:"
      ],
      "metadata": {
        "id": "UOEiIsN5PWVQ"
      }
    },
    {
      "cell_type": "code",
      "source": [
        "composers = ['Berlioz', 'Borodin', 'Brian', 'Bartok', 'Bellini', 'Buxtehude', 'Bernstein']\n",
        "first_composer = min(composers)\n",
        "last_composer = max(composers)\n",
        "\n",
        "print(\"First composer:\", first_composer)\n",
        "print(\"Last composer:\", last_composer)"
      ],
      "metadata": {
        "colab": {
          "base_uri": "https://localhost:8080/"
        },
        "id": "yPXEt86OPErW",
        "outputId": "9e734359-d05c-412c-9545-932a6df67417"
      },
      "execution_count": 4,
      "outputs": [
        {
          "output_type": "stream",
          "name": "stdout",
          "text": [
            "First composer: Bartok\n",
            "Last composer: Buxtehude\n"
          ]
        }
      ]
    },
    {
      "cell_type": "markdown",
      "source": [
        "Question 3\n",
        "\n",
        "Implement function triangleArea(a,b,c) that takes as input the lengths of the 3\n",
        "sides of a triangle and returns the area of the triangle. By Heron's formula, the area\n",
        "of a triangle with side lengths a, b, and c is\n",
        "s(s - a)(s -b)(s -c)\n",
        ", where\n",
        "s = (a+b+c)/2.\n",
        "\n",
        " triangleArea(2,2,2)\n",
        "1.7320508075688772\n"
      ],
      "metadata": {
        "id": "iaQV5Ra1PhuL"
      }
    },
    {
      "cell_type": "code",
      "source": [
        "import math\n",
        "\n",
        "def triangleArea(a, b, c):\n",
        "    s = (a + b + c) / 2\n",
        "    area = math.sqrt(s * (s - a) * (s - b) * (s - c))\n",
        "    return area\n",
        "\n",
        "# In the test triangeArea example, would be:\n",
        "result = triangleArea(2, 2, 2)\n",
        "print(result)"
      ],
      "metadata": {
        "colab": {
          "base_uri": "https://localhost:8080/"
        },
        "id": "NXKkbgtaPtA0",
        "outputId": "27a750b8-ac88-457b-ee2f-cb93fb0c49ad"
      },
      "execution_count": 5,
      "outputs": [
        {
          "output_type": "stream",
          "name": "stdout",
          "text": [
            "1.7320508075688772\n"
          ]
        }
      ]
    },
    {
      "cell_type": "markdown",
      "source": [
        "Question 4\n",
        "\n",
        "Write a program in python to separate odd and even integers in separate arrays. Go\n",
        "to the editor\n",
        "Test Data :\n",
        "\n",
        "Input the number of elements to be stored in the array :5\n",
        "Input 5 elements in the array :\n",
        "\n",
        "element - 0 : 25\n",
        "\n",
        "element - 1 : 47\n",
        "\n",
        "element - 2 : 42\n",
        "\n",
        "element - 3 : 56\n",
        "\n",
        "element - 4 : 32\n",
        "\n",
        "Expected Output:\n",
        "\n",
        "The Even elements are:\n",
        "\n",
        "42 56 32\n",
        "\n",
        "The Odd elements are :\n",
        "\n",
        "25 47"
      ],
      "metadata": {
        "id": "vzw7zw68P3-6"
      }
    },
    {
      "cell_type": "code",
      "source": [
        "def separate_odd_even(input_array):\n",
        "    evenInt = [num for num in input_array if num % 2 == 0]\n",
        "    oddInt = [num for num in input_array if num % 2 != 0]\n",
        "    return evenInt, oddInt\n",
        "\n",
        "\n",
        "questionExample = [25, 47, 42, 56, 32]\n",
        "\n",
        "even_elements, odd_elements = separate_odd_even(questionExample)\n",
        "print(\"The Even elements are:\", *even_elements)\n",
        "print(\"The Odd elements are:\", *odd_elements)"
      ],
      "metadata": {
        "colab": {
          "base_uri": "https://localhost:8080/"
        },
        "id": "h2Wv2JTHQJjd",
        "outputId": "b113be2c-4206-40a1-89ab-e658d10f6336"
      },
      "execution_count": 10,
      "outputs": [
        {
          "output_type": "stream",
          "name": "stdout",
          "text": [
            "The Even elements are: 42 56 32\n",
            "The Odd elements are: 25 47\n"
          ]
        }
      ]
    },
    {
      "cell_type": "markdown",
      "source": [
        "Question 5\n",
        "\n",
        "a. Write a function inside(x,y,x1,y1,x2,y2) that returns True or False\n",
        "depending on whether the point (x,y) lies in the rectangle with lower left\n",
        "corner (x1,y1) and upper right corner (x2,y2).\n",
        "\n",
        ">>> inside(1,1,0,0,2,3)\n",
        "True\n",
        ">>> inside(-1,-1,0,0,2,3)\n",
        "False\n",
        "\n",
        "b. Use function inside() from part a. to write an expression that tests whether\n",
        "the point (1,1) lies in both of the following rectangles: one with lower left\n",
        "corner (0.3, 0.5) and upper right corner (1.1, 0.7) and the other with lower\n",
        "left corner (0.5, 0.2) and upper right corner (1.1, 2)."
      ],
      "metadata": {
        "id": "MEfQI1_kRIue"
      }
    },
    {
      "cell_type": "code",
      "source": [
        "def inside(x, y, x1, y1, x2, y2):\n",
        "    return x1 <= x <= x2 and y1 <= y <= y2\n",
        "\n",
        "# Example usage for part a\n",
        "print(inside(1, 1, 0, 0, 2, 3))   # True\n",
        "print(inside(-1, -1, 0, 0, 2, 3))  # False\n",
        "\n",
        "# Example usage for part b\n",
        "rectangle1_result = inside(1, 1, 0.3, 0.5, 1.1, 0.7)\n",
        "rectangle2_result = inside(1, 1, 0.5, 0.2, 1.1, 2)\n",
        "\n",
        "# Check if the point (1,1) lies in both rectangles\n",
        "print(rectangle1_result and rectangle2_result)"
      ],
      "metadata": {
        "colab": {
          "base_uri": "https://localhost:8080/"
        },
        "id": "56Q2LmDWRZMz",
        "outputId": "70c07040-3618-408b-d289-d015e76263a5"
      },
      "execution_count": 11,
      "outputs": [
        {
          "output_type": "stream",
          "name": "stdout",
          "text": [
            "True\n",
            "False\n",
            "False\n"
          ]
        }
      ]
    },
    {
      "cell_type": "markdown",
      "source": [
        "Question 6\n",
        "\n",
        "16. You can turn a word into pig-Latin using the following two rules (simplified):\n",
        "\n",
        "• If the word starts with a consonant, move that letter to the end and append\n",
        "'ay'. For example, 'happy' becomes 'appyhay' and 'pencil' becomes 'encilpay'.\n",
        "• If the word starts with a vowel, simply append 'way' to the end of the word.\n",
        "\n",
        "For example, 'enter' becomes 'enterway' and 'other' becomes 'otherway' . For\n",
        "our purposes, there are 5 vowels: a, e, i, o, u (so we count y as a consonant).\n",
        "Write a function pig() that takes a word (i.e., a string) as input and returns its pigLatin form. Your function should still work if the input word contains upper case\n",
        "characters. Your output should always be lower case however.\n",
        "\n",
        ">>> pig('happy')\n",
        "'appyhay'\n",
        "\n",
        ">>> pig('Enter')\n",
        "'enterway'"
      ],
      "metadata": {
        "id": "nKykGmBCRis4"
      }
    },
    {
      "cell_type": "code",
      "source": [
        "def pig(word):\n",
        "    word = word.lower()\n",
        "    vowels = 'aeiou'\n",
        "\n",
        "    if word[0] in vowels:\n",
        "        return word + 'way'\n",
        "    else:\n",
        "        return word[1:] + word[0] + 'ay'\n",
        "\n",
        "print(pig('happy'))\n",
        "print(pig('Enter'))"
      ],
      "metadata": {
        "colab": {
          "base_uri": "https://localhost:8080/"
        },
        "id": "5HK_8RGWRyZO",
        "outputId": "94df239d-d81c-49c4-c866-97ca31e3c465"
      },
      "execution_count": 12,
      "outputs": [
        {
          "output_type": "stream",
          "name": "stdout",
          "text": [
            "appyhay\n",
            "enterway\n"
          ]
        }
      ]
    },
    {
      "cell_type": "markdown",
      "source": [
        "Question 7\n",
        "File bloodtype1.txt records blood-types of patients (A, B, AB, O or OO) at a clinic.Write a function bldcount() that reads the file with name name and reports (i.e.,prints) how many patients there are in each bloodtype.>>> bldcount('bloodtype.txt')\n",
        "There are 10 patients of blood type A.\n",
        "There is one patient of blood type B.\n",
        "There are 10 patients of blood type AB.\n",
        "There are 12 patients of blood type O.\n",
        "There are no patients of blood type OO."
      ],
      "metadata": {
        "id": "6T4JOpsHUJ3g"
      }
    },
    {
      "cell_type": "markdown",
      "source": [
        "My bloodtype.txt was A, B, AB, A, B, AB, O, OO, O, OO, O, OO, A, B"
      ],
      "metadata": {
        "id": "X1MClI6RUHNE"
      }
    },
    {
      "cell_type": "code",
      "source": [
        "def bldcount(filename):\n",
        "    blood_counts = {'A': 0, 'B': 0, 'AB': 0, 'O': 0, 'OO': 0}\n",
        "\n",
        "    with open(filename, 'r') as file:\n",
        "        for blood_type in file.read().split(', '):\n",
        "            blood_counts[blood_type] += 1\n",
        "\n",
        "    for blood_type, count in blood_counts.items():\n",
        "        print(f\"There {'is' if count == 1 else 'are'} {count} patient{'s' if count != 1 else ''} of blood type {blood_type}.\")\n",
        "\n",
        "# Example usage\n",
        "bldcount('bloodtype.txt')"
      ],
      "metadata": {
        "colab": {
          "base_uri": "https://localhost:8080/"
        },
        "id": "HNmpWqfMSSVf",
        "outputId": "79f57a24-4c66-49ae-9735-767235671604"
      },
      "execution_count": 18,
      "outputs": [
        {
          "output_type": "stream",
          "name": "stdout",
          "text": [
            "There are 3 patients of blood type A.\n",
            "There are 3 patients of blood type B.\n",
            "There are 2 patients of blood type AB.\n",
            "There are 3 patients of blood type O.\n",
            "There are 3 patients of blood type OO.\n"
          ]
        }
      ]
    },
    {
      "cell_type": "markdown",
      "source": [
        "Question 8\n",
        "Write a function curconv() that takes as input:1. a currency represented using a string (e.g., 'JPY' for the Japanese Yen or'EUR' for the Euro)2. an amountand then converts and returns the amount in US dollars.\n",
        ">>> curconv('EUR', 100)122.96544\n",
        ">>> curconv('JPY', 100)1.241401\n",
        "\n",
        "The currency rates you will need are stored in file currencies.txt:\n",
        "AUD 1.0345157\n",
        "Australian Dollar\n",
        "CHF 1.0237414\n",
        "Swiss Franc\n",
        "CNY 0.1550176 Chinese Yuan"
      ],
      "metadata": {
        "id": "eICNcrtiUagr"
      }
    },
    {
      "cell_type": "code",
      "source": [
        "def curconv(currency, amount):\n",
        "    with open('currencies.txt', 'r') as file:\n",
        "        for line in file:\n",
        "            code, rate = line.split()[:2]\n",
        "            if code == currency:\n",
        "                return amount * float(rate)\n",
        "\n",
        "\n",
        "result_eur = curconv('EUR', 100)\n",
        "result_jpy = curconv('JPY', 100)\n",
        "\n",
        "print(result_eur)\n",
        "print(result_jpy)"
      ],
      "metadata": {
        "colab": {
          "base_uri": "https://localhost:8080/"
        },
        "id": "H3qmXKq3VIO8",
        "outputId": "359ae76b-af4f-4631-fad3-0c857be4da3b"
      },
      "execution_count": 30,
      "outputs": [
        {
          "output_type": "stream",
          "name": "stdout",
          "text": [
            "122.96544\n",
            "1.241401\n"
          ]
        }
      ]
    },
    {
      "cell_type": "markdown",
      "source": [
        "Question 9\n",
        "Each of the following will cause an exception (an error).\n",
        "Identify what type ofexception each will cause.\n",
        "\n",
        "Trying to add incompatible variables, as inadding 6 + ‘a’\n",
        "\n",
        "Type of Exception: TypeError\n",
        "\n",
        "Referring to the 12th item of a list that has only 10\n",
        "items\n",
        "\n",
        "Type of Exception: IndexError\n",
        "\n",
        "Using a value that is out of range for a function’sinput, such as calling math.sqrt(-1.0)\n",
        "\n",
        "Type of Exception: ValueError\n",
        "\n",
        "Using an undeclared variable, such as print(x)when x has not been defined\n",
        "\n",
        "Type of Exception: NameError\n",
        "\n",
        "Trying to open a file that does not exist, such asmistyping the file name or looking in the wrongdirectory.\n",
        "\n",
        "Type of Exception: FileNotFoundError"
      ],
      "metadata": {
        "id": "Ld-Sds0jXCJX"
      }
    }
  ]
}